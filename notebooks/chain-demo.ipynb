{
 "cells": [
  {
   "cell_type": "code",
   "execution_count": 2,
   "metadata": {},
   "outputs": [],
   "source": [
    "import os\n",
    "import sys\n",
    "\n",
    "from dotenv import load_dotenv\n",
    "from httpx import AsyncClient, Client\n",
    "from langchain_core.messages import HumanMessage\n",
    "from langchain_google_genai import ChatGoogleGenerativeAI\n",
    "from langchain_openai import ChatOpenAI\n",
    "\n",
    "sys.path.append(\"..\")\n",
    "from agents.knowledge_agent import create_knowledge_agent\n",
    "from tools.web_search import web_search\n",
    "from tools.fetch_web import fetch_web\n",
    "\n",
    "assert load_dotenv()\n",
    "# OPENAI_PROXY = os.getenv(\"OPENAI_PROXY\")\n",
    "# BING_API_KEY = os.getenv(\"BING_API_KEY\")"
   ]
  },
  {
   "cell_type": "markdown",
   "metadata": {},
   "source": [
    "## Chain with tool"
   ]
  },
  {
   "cell_type": "code",
   "execution_count": 3,
   "metadata": {},
   "outputs": [],
   "source": [
    "# client = Client(proxy=OPENAI_PROXY)\n",
    "# async_client = AsyncClient(proxy=OPENAI_PROXY)\n",
    "\n",
    "# model = ChatOpenAI(model='gpt-4o')\n",
    "model = ChatGoogleGenerativeAI(model=\"gemini-pro\")"
   ]
  },
  {
   "cell_type": "code",
   "execution_count": 4,
   "metadata": {},
   "outputs": [],
   "source": [
    "tools = [web_search]\n",
    "app = create_knowledge_agent(model=model.bind_tools(tools), tools=tools)"
   ]
  },
  {
   "cell_type": "code",
   "execution_count": 7,
   "metadata": {},
   "outputs": [],
   "source": [
    "def print_stream(stream):\n",
    "    result = []\n",
    "    for s in stream:\n",
    "        print(s)\n",
    "        result.append(s)\n",
    "    return result\n",
    "\n",
    "stream = app.stream({\"messages\": [HumanMessage(\"What are the newest features in iPhone 15?\")]})"
   ]
  },
  {
   "cell_type": "code",
   "execution_count": 8,
   "metadata": {},
   "outputs": [
    {
     "name": "stdout",
     "output_type": "stream",
     "text": [
      "{'agent': {'messages': [AIMessage(content='', additional_kwargs={'function_call': {'name': 'web_search', 'arguments': '{\"query\": \"What are the newest features in iPhone 15\"}'}}, response_metadata={'prompt_feedback': {'block_reason': 0, 'safety_ratings': []}, 'finish_reason': 'STOP', 'safety_ratings': [{'category': 'HARM_CATEGORY_SEXUALLY_EXPLICIT', 'probability': 'NEGLIGIBLE', 'blocked': False}, {'category': 'HARM_CATEGORY_DANGEROUS_CONTENT', 'probability': 'NEGLIGIBLE', 'blocked': False}, {'category': 'HARM_CATEGORY_HARASSMENT', 'probability': 'NEGLIGIBLE', 'blocked': False}, {'category': 'HARM_CATEGORY_HATE_SPEECH', 'probability': 'NEGLIGIBLE', 'blocked': False}]}, id='run-c90f72e2-9afe-4b1f-9d79-5dadbe9d1dea-0', tool_calls=[{'name': 'web_search', 'args': {'query': 'What are the newest features in iPhone 15'}, 'id': 'e64f4777-f518-40a1-99f7-b09fb498c814'}], usage_metadata={'input_tokens': 50, 'output_tokens': 24, 'total_tokens': 74})]}}\n",
      "{'tools': {'messages': [ToolMessage(content='[{\"snippet\": \"Below, you\\\\u2019ll find seven top new iPhone 15 features \\\\u2013 these are in many cases things that Apple has already shouted about, and in all cases they rank among the main reasons to consider picking up a...\", \"title\": \"7 top new iPhone 15 features | TechRadar\", \"link\": \"https://www.techradar.com/phones/iphone/7-top-new-iphone-15-features\"}, {\"snippet\": \"1. The cameras are amazing. (Image credit: Apple) The <b>iPhone</b> <b>15</b> effectively gets the camera kit from the <b>iPhone</b> 14 Pro, bringing the megapixel count up from 12MP to a whopping 48MP.\", \"title\": \"What&#39;s new in iPhone 15: Five new features that make it a ...\", \"link\": \"https://www.imore.com/iphone/iphone-15/whats-new-in-iphone-15-five-new-features-that-make-it-a-must-have\"}, {\"snippet\": \"PRESS RELEASE September 12, 2023. Apple debuts <b>iPhone</b> <b>15</b> and <b>iPhone</b> <b>15</b> Plus. A huge leap forward for <b>iPhone</b> with a gorgeous new design featuring a durable, color-infused back glass and new contoured edge; the Dynamic Island; a 48MP Main camera with 2x Telephoto; and USB\\\\u2011C.\", \"title\": \"Apple debuts iPhone 15 and iPhone 15 Plus - Apple\", \"link\": \"https://www.apple.com/newsroom/2023/09/apple-debuts-iphone-15-and-iphone-15-plus/\"}, {\"snippet\": \"<b>Super</b> <b>Retina</b> <b>XDR</b> <b>display</b>. 6.7\\\\u2011inch (diagonal) all\\\\u2011screen OLED display. 2796\\\\u2011by\\\\u20111290-pixel resolution at 460 ppi. The iPhone 15 Plus display has rounded corners that follow a beautiful curved design, and these corners are within a standard rectangle.\", \"title\": \"iPhone 15 and iPhone 15 Plus - Technical Specifications - Apple\", \"link\": \"https://www.apple.com/iphone-15/specs/\"}, {\"snippet\": \"<b>iPhone</b> 15 and iPhone <b>15</b> Plus. Dynamic Island. 48MP Main camera with 2x Telephoto. All-day battery life. USB-C. 6.1\\\\u201d and 6.7\\\\u201d sizes.\", \"title\": \"iPhone 15 and iPhone 15 Plus - Apple\", \"link\": \"https://www.apple.com/iphone-15/\"}, {\"snippet\": \"<b>iPhone</b> <b>15</b> and <b>15</b> Pro models both feature Emergency SOS via satellite, a feature that first made its way into the <b>iPhone</b> 14 and <b>iPhone</b> 14 Pro in 2022. The feature, which was credited with rescues only a month out from its launch , is getting bolstered this year for US customers with a Roadside Assistance feature.\", \"title\": \"What\\\\u2019s New in the iPhone 15 and iPhone 15 Pro? - How-To Geek\", \"link\": \"https://www.howtogeek.com/whats-new-in-the-iphone-15-and-iphone-15-pro/\"}, {\"snippet\": \"The <b>iPhone</b> <b>15</b> and <b>15</b> Pro have officially launched. They offer some big upgrades over previous models, including a switch from Lightning to USB-C. Here\\\\u2019s our coverage of all the news around...\", \"title\": \"The iPhone 15 lineup has arrived, and here\\\\u2019s everything you ...\", \"link\": \"https://www.theverge.com/23885548/apple-iphone-15-everything-need-know-news-announcement\"}, {\"snippet\": \"What are the best new <b>features</b> coming to the <b>iPhone</b> <b>15</b> series? These are the most likely, and the most exciting, changes.\", \"title\": \"iPhone 15: Four features that will make this year&#39;s Apple ...\", \"link\": \"https://www.zdnet.com/article/iphone-15-preview/\"}, {\"snippet\": \"All <b>iPhone</b> <b>15</b> models come with iOS 17 pre-installed. During the iOS 17 beta testing process from June to September, MacRumors wrote a series of in-depth feature guides highlighting every major...\", \"title\": \"iPhone 15 and iPhone 15 Pro: How to Use All the New Features\", \"link\": \"https://www.macrumors.com/guide/iphone-15-explained-how-to-use-new-features/\"}, {\"snippet\": \"Highlights in the <b>iPhone</b> <b>15</b> include a Dynamic Island in place of the notch, a new 48MP camera, and yes, a USB-C port. But there\\\\u2019s plenty more that&#39;s new, too, so read on for everything you need...\", \"title\": \"iPhone 15: price, features, cameras, USB-C, and everything ...\", \"link\": \"https://www.techradar.com/news/iphone-15\"}]', name='web_search', tool_call_id='e64f4777-f518-40a1-99f7-b09fb498c814')]}}\n",
      "{'agent': {'messages': [AIMessage(content='The newest features in the iPhone 15 include a Dynamic Island, a 48MP camera, and a USB-C port. The Dynamic Island is a new way to interact with your phone, and it can be used to display notifications, control music, and more. The 48MP camera is a significant upgrade over the 12MP camera in the iPhone 14, and it should result in much better photos and videos. Finally, the USB-C port is a welcome addition, as it will allow you to use the same charger for your iPhone, iPad, and Mac.', response_metadata={'prompt_feedback': {'block_reason': 0, 'safety_ratings': []}, 'finish_reason': 'STOP', 'safety_ratings': [{'category': 'HARM_CATEGORY_SEXUALLY_EXPLICIT', 'probability': 'NEGLIGIBLE', 'blocked': False}, {'category': 'HARM_CATEGORY_HATE_SPEECH', 'probability': 'NEGLIGIBLE', 'blocked': False}, {'category': 'HARM_CATEGORY_HARASSMENT', 'probability': 'NEGLIGIBLE', 'blocked': False}, {'category': 'HARM_CATEGORY_DANGEROUS_CONTENT', 'probability': 'NEGLIGIBLE', 'blocked': False}]}, id='run-8047aab4-b2b6-4254-a792-2b3724a25eb4-0', usage_metadata={'input_tokens': 1409, 'output_tokens': 122, 'total_tokens': 1531})]}}\n"
     ]
    }
   ],
   "source": [
    "result = print_stream(stream)"
   ]
  },
  {
   "cell_type": "code",
   "execution_count": 16,
   "metadata": {},
   "outputs": [
    {
     "name": "stdout",
     "output_type": "stream",
     "text": [
      "The newest features in the iPhone 15 include a Dynamic Island, a 48MP camera, and a USB-C port. The Dynamic Island is a new way to interact with your phone, and it can be used to display notifications, control music, and more. The 48MP camera is a significant upgrade over the 12MP camera in the iPhone 14, and it should result in much better photos and videos. Finally, the USB-C port is a welcome addition, as it will allow you to use the same charger for your iPhone, iPad, and Mac.\n"
     ]
    }
   ],
   "source": [
    "print(result[-1]['agent']['messages'][0].content)"
   ]
  },
  {
   "cell_type": "code",
   "execution_count": null,
   "metadata": {},
   "outputs": [],
   "source": []
  }
 ],
 "metadata": {
  "kernelspec": {
   "display_name": "Python 3",
   "language": "python",
   "name": "python3"
  },
  "language_info": {
   "codemirror_mode": {
    "name": "ipython",
    "version": 3
   },
   "file_extension": ".py",
   "mimetype": "text/x-python",
   "name": "python",
   "nbconvert_exporter": "python",
   "pygments_lexer": "ipython3",
   "version": "3.12.4"
  }
 },
 "nbformat": 4,
 "nbformat_minor": 2
}
