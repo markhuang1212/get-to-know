{
 "cells": [
  {
   "cell_type": "code",
   "execution_count": 44,
   "metadata": {},
   "outputs": [],
   "source": [
    "from selenium import webdriver\n",
    "from selenium.webdriver.common.by import By"
   ]
  },
  {
   "cell_type": "code",
   "execution_count": 45,
   "metadata": {},
   "outputs": [],
   "source": [
    "option = webdriver.ChromeOptions()\n",
    "option.add_argument('user-data-dir=/home/admin/.config/google-chrome')\n",
    "\n",
    "\n",
    "driver = webdriver.Chrome(options=option)"
   ]
  },
  {
   "cell_type": "code",
   "execution_count": 46,
   "metadata": {},
   "outputs": [],
   "source": [
    "page = driver.get('https://www.rust-lang.org/')\n"
   ]
  },
  {
   "cell_type": "code",
   "execution_count": 47,
   "metadata": {},
   "outputs": [],
   "source": [
    "body = driver.find_element(By.TAG_NAME, 'body')\n",
    "text = body.text\n",
    "\n",
    "link_elems = driver.find_elements(By.TAG_NAME, 'a')\n",
    "\n",
    "links = [{\n",
    "    'href': elem.get_attribute('href'),\n",
    "    'text': elem.text\n",
    "} for elem in link_elems]\n",
    "links = list(filter(lambda x: x['text'] != '' and x['href'] != '', links))"
   ]
  },
  {
   "cell_type": "code",
   "execution_count": 48,
   "metadata": {},
   "outputs": [],
   "source": [
    "webpage = {\n",
    "  \"text\": text,\n",
    "  \"links\": links\n",
    "}"
   ]
  },
  {
   "cell_type": "code",
   "execution_count": 49,
   "metadata": {},
   "outputs": [
    {
     "data": {
      "text/plain": [
       "{'text': \"Install\\nLearn\\nPlayground\\nTools\\nGovernance\\nCommunity\\nBlog\\nLanguage\\n            English (en-US)\\nEspañol (es)\\nFrançais (fr)\\nItaliano (it)\\n日本語 (ja)\\nPortuguês (pt-BR)\\nРусский (ru)\\nTürkçe (tr)\\n简体中文 (zh-CN)\\n正體中文 (zh-TW)\\n       Rust\\nA language empowering everyone\\nto build reliable and efficient software.\\nGET STARTED\\nVersion 1.79.0\\nWhy Rust?\\nPerformance\\nRust is blazingly fast and memory-efficient: with no runtime or garbage collector, it can power performance-critical services, run on embedded devices, and easily integrate with other languages.\\nReliability\\nRust’s rich type system and ownership model guarantee memory-safety and thread-safety — enabling you to eliminate many classes of bugs at compile-time.\\nProductivity\\nRust has great documentation, a friendly compiler with useful error messages, and top-notch tooling — an integrated package manager and build tool, smart multi-editor support with auto-completion and type inspections, an auto-formatter, and more.\\nBuild it in Rust\\nIn 2018, the Rust community decided to improve the programming experience for a few distinct domains (see the 2018 roadmap). For these, you can find many high-quality crates and some awesome guides on how to get started.\\nCommand Line\\nWhip up a CLI tool quickly with Rust’s robust ecosystem. Rust helps you maintain your app with confidence and distribute it with ease.\\nBUILDING TOOLS\\nWebAssembly\\nUse Rust to supercharge your JavaScript, one module at a time. Publish to npm, bundle with webpack, and you’re off to the races.\\nWRITING WEB APPS\\nNetworking\\nPredictable performance. Tiny resource footprint. Rock-solid reliability. Rust is great for network services.\\nWORKING ON SERVERS\\nEmbedded\\nTargeting low-resource devices? Need low-level control without giving up high-level conveniences? Rust has you covered.\\nSTARTING WITH EMBEDDED\\nRust in production\\nHundreds of companies around the world are using Rust in production today for fast, low-resource, cross-platform solutions. Software you know and love, like Firefox, Dropbox, and Cloudflare, uses Rust. From startups to large corporations, from embedded devices to scalable web services, Rust is a great fit.\\nMy biggest compliment to Rust is that it's boring, and this is an amazing compliment.\\n– Chris Dickinson, Engineer at npm, Inc\\nAll the documentation, the tooling, the community is great - you have all the tools to succeed in writing Rust code.\\n– Antonio Verardi, Infrastructure Engineer\\nLEARN MORE\\nGet involved\\nRead Rust\\nWe love documentation! Take a look at the books available online, as well as key blog posts and user guides.\\nREAD THE BOOK\\nWatch Rust\\nThe Rust community has a dedicated YouTube channel collecting a huge range of presentations and tutorials.\\nWATCH THE VIDEOS\\nContribute code\\nRust is truly a community effort, and we welcome contribution from hobbyists and production users, from newcomers and seasoned professionals. Come help us make the Rust experience even better!\\nREAD CONTRIBUTION GUIDE\\nThanks\\nRust would not exist without the generous contributions of time, work, and resources from individuals and companies. We are very grateful for the support!\\nIndividuals\\nRust is a community project and is very thankful for the many community contributions it receives.\\nSEE INDIVIDUAL CONTRIBUTORS\\nCorporate sponsors\\nThe Rust project receives support from companies through the Rust Foundation.\\nSEE FOUNDATION MEMBERS\\nGet help!\\nDocumentation\\nRust Forge (Contributor Documentation)\\nAsk a Question on the Users Forum\\nLanguage\\n                  English (en-US)\\nEspañol (es)\\nFrançais (fr)\\nItaliano (it)\\n日本語 (ja)\\nPortuguês (pt-BR)\\nРусский (ru)\\nTürkçe (tr)\\n简体中文 (zh-CN)\\n正體中文 (zh-TW)\\n             Terms and policies\\nCode of Conduct\\nLicenses\\nLogo Policy and Media Guide\\nSecurity Disclosures\\nPrivacy Notice\\nAll Policies\\nSocial\\nMaintained by the Rust Team. See a bug? File an issue!\\nLooking for the previous website?\",\n",
       " 'links': [{'href': 'https://www.rust-lang.org/tools/install',\n",
       "   'text': 'Install'},\n",
       "  {'href': 'https://www.rust-lang.org/learn', 'text': 'Learn'},\n",
       "  {'href': 'https://play.rust-lang.org/', 'text': 'Playground'},\n",
       "  {'href': 'https://www.rust-lang.org/tools', 'text': 'Tools'},\n",
       "  {'href': 'https://www.rust-lang.org/governance', 'text': 'Governance'},\n",
       "  {'href': 'https://www.rust-lang.org/community', 'text': 'Community'},\n",
       "  {'href': 'https://blog.rust-lang.org/', 'text': 'Blog'},\n",
       "  {'href': 'https://www.rust-lang.org/learn/get-started',\n",
       "   'text': 'GET STARTED'},\n",
       "  {'href': 'https://blog.rust-lang.org/2024/06/13/Rust-1.79.0.html',\n",
       "   'text': 'Version 1.79.0'},\n",
       "  {'href': 'https://blog.rust-lang.org/2018/03/12/roadmap.html',\n",
       "   'text': 'the 2018 roadmap'},\n",
       "  {'href': 'https://www.rust-lang.org/what/cli', 'text': 'BUILDING TOOLS'},\n",
       "  {'href': 'https://www.rust-lang.org/what/wasm', 'text': 'WRITING WEB APPS'},\n",
       "  {'href': 'https://www.rust-lang.org/what/networking',\n",
       "   'text': 'WORKING ON SERVERS'},\n",
       "  {'href': 'https://www.rust-lang.org/what/embedded',\n",
       "   'text': 'STARTING WITH EMBEDDED'},\n",
       "  {'href': 'https://hacks.mozilla.org/2017/08/inside-a-super-fast-css-engine-quantum-css-aka-stylo/',\n",
       "   'text': 'Firefox'},\n",
       "  {'href': 'https://blogs.dropbox.com/tech/2016/06/lossless-compression-with-brotli/',\n",
       "   'text': 'Dropbox'},\n",
       "  {'href': 'https://blog.cloudflare.com/cloudflare-workers-as-a-serverless-rust-platform/',\n",
       "   'text': 'Cloudflare'},\n",
       "  {'href': 'https://www.rust-lang.org/production', 'text': 'LEARN MORE'},\n",
       "  {'href': 'https://www.rust-lang.org/learn', 'text': 'READ THE BOOK'},\n",
       "  {'href': 'https://www.youtube.com/channel/UCaYhcUwRBNscFNUKTjgPFiA',\n",
       "   'text': 'WATCH THE VIDEOS'},\n",
       "  {'href': 'https://rustc-dev-guide.rust-lang.org/getting-started.html',\n",
       "   'text': 'READ CONTRIBUTION GUIDE'},\n",
       "  {'href': 'https://thanks.rust-lang.org/',\n",
       "   'text': 'SEE INDIVIDUAL CONTRIBUTORS'},\n",
       "  {'href': 'https://foundation.rust-lang.org/members',\n",
       "   'text': 'SEE FOUNDATION MEMBERS'},\n",
       "  {'href': 'https://www.rust-lang.org/learn', 'text': 'Documentation'},\n",
       "  {'href': 'http://forge.rust-lang.org/',\n",
       "   'text': 'Rust Forge (Contributor Documentation)'},\n",
       "  {'href': 'https://users.rust-lang.org/',\n",
       "   'text': 'Ask a Question on the Users Forum'},\n",
       "  {'href': 'https://www.rust-lang.org/policies/code-of-conduct',\n",
       "   'text': 'Code of Conduct'},\n",
       "  {'href': 'https://www.rust-lang.org/policies/licenses', 'text': 'Licenses'},\n",
       "  {'href': 'https://foundation.rust-lang.org/policies/logo-policy-and-media-guide/',\n",
       "   'text': 'Logo Policy and Media Guide'},\n",
       "  {'href': 'https://www.rust-lang.org/policies/security',\n",
       "   'text': 'Security Disclosures'},\n",
       "  {'href': 'https://foundation.rust-lang.org/policies/privacy-policy/',\n",
       "   'text': 'Privacy Notice'},\n",
       "  {'href': 'https://www.rust-lang.org/policies', 'text': 'All Policies'},\n",
       "  {'href': 'https://github.com/rust-lang/www.rust-lang.org/issues/new/choose',\n",
       "   'text': 'File an issue!'},\n",
       "  {'href': 'https://prev.rust-lang.org/', 'text': 'previous website'}]}"
      ]
     },
     "execution_count": 49,
     "metadata": {},
     "output_type": "execute_result"
    }
   ],
   "source": [
    "webpage"
   ]
  },
  {
   "cell_type": "code",
   "execution_count": 50,
   "metadata": {},
   "outputs": [
    {
     "ename": "WebDriverException",
     "evalue": "Message: disconnected: not connected to DevTools\n  (failed to check if window was closed: disconnected: not connected to DevTools)\n  (Session info: chrome=126.0.6478.126)\nStacktrace:\n#0 0x55f2999a785e <unknown>\n#1 0x55f29967d31b <unknown>\n#2 0x55f299663419 <unknown>\n#3 0x55f2996649e0 <unknown>\n#4 0x55f29967d9a0 <unknown>\n#5 0x55f299654c2b <unknown>\n#6 0x55f2996fcac8 <unknown>\n#7 0x55f2996fc8e2 <unknown>\n#8 0x55f2996ecf08 <unknown>\n#9 0x55f2996bb9f5 <unknown>\n#10 0x55f2996bc7ae <unknown>\n#11 0x55f299973e7e <unknown>\n#12 0x55f2999772c3 <unknown>\n#13 0x55f299976cff <unknown>\n#14 0x55f299977785 <unknown>\n#15 0x55f2999640cb <unknown>\n#16 0x55f299977b4e <unknown>\n#17 0x55f29994f932 <unknown>\n#18 0x55f299996fa5 <unknown>\n#19 0x55f299997156 <unknown>\n#20 0x55f2999a6b61 <unknown>\n#21 0x7f47107e41b7 start_thread\n#22 0x7f47108663cc __clone3\n",
     "output_type": "error",
     "traceback": [
      "\u001b[0;31m---------------------------------------------------------------------------\u001b[0m",
      "\u001b[0;31mWebDriverException\u001b[0m                        Traceback (most recent call last)",
      "Cell \u001b[0;32mIn[50], line 1\u001b[0m\n\u001b[0;32m----> 1\u001b[0m \u001b[43mdriver\u001b[49m\u001b[38;5;241;43m.\u001b[39;49m\u001b[43mclose\u001b[49m\u001b[43m(\u001b[49m\u001b[43m)\u001b[49m\n",
      "File \u001b[0;32m~/git/get-to-know/.venv/lib64/python3.12/site-packages/selenium/webdriver/remote/webdriver.py:465\u001b[0m, in \u001b[0;36mWebDriver.close\u001b[0;34m(self)\u001b[0m\n\u001b[1;32m    457\u001b[0m \u001b[38;5;28;01mdef\u001b[39;00m \u001b[38;5;21mclose\u001b[39m(\u001b[38;5;28mself\u001b[39m) \u001b[38;5;241m-\u001b[39m\u001b[38;5;241m>\u001b[39m \u001b[38;5;28;01mNone\u001b[39;00m:\n\u001b[1;32m    458\u001b[0m \u001b[38;5;250m    \u001b[39m\u001b[38;5;124;03m\"\"\"Closes the current window.\u001b[39;00m\n\u001b[1;32m    459\u001b[0m \n\u001b[1;32m    460\u001b[0m \u001b[38;5;124;03m    :Usage:\u001b[39;00m\n\u001b[0;32m   (...)\u001b[0m\n\u001b[1;32m    463\u001b[0m \u001b[38;5;124;03m            driver.close()\u001b[39;00m\n\u001b[1;32m    464\u001b[0m \u001b[38;5;124;03m    \"\"\"\u001b[39;00m\n\u001b[0;32m--> 465\u001b[0m     \u001b[38;5;28;43mself\u001b[39;49m\u001b[38;5;241;43m.\u001b[39;49m\u001b[43mexecute\u001b[49m\u001b[43m(\u001b[49m\u001b[43mCommand\u001b[49m\u001b[38;5;241;43m.\u001b[39;49m\u001b[43mCLOSE\u001b[49m\u001b[43m)\u001b[49m\n",
      "File \u001b[0;32m~/git/get-to-know/.venv/lib64/python3.12/site-packages/selenium/webdriver/remote/webdriver.py:354\u001b[0m, in \u001b[0;36mWebDriver.execute\u001b[0;34m(self, driver_command, params)\u001b[0m\n\u001b[1;32m    352\u001b[0m response \u001b[38;5;241m=\u001b[39m \u001b[38;5;28mself\u001b[39m\u001b[38;5;241m.\u001b[39mcommand_executor\u001b[38;5;241m.\u001b[39mexecute(driver_command, params)\n\u001b[1;32m    353\u001b[0m \u001b[38;5;28;01mif\u001b[39;00m response:\n\u001b[0;32m--> 354\u001b[0m     \u001b[38;5;28;43mself\u001b[39;49m\u001b[38;5;241;43m.\u001b[39;49m\u001b[43merror_handler\u001b[49m\u001b[38;5;241;43m.\u001b[39;49m\u001b[43mcheck_response\u001b[49m\u001b[43m(\u001b[49m\u001b[43mresponse\u001b[49m\u001b[43m)\u001b[49m\n\u001b[1;32m    355\u001b[0m     response[\u001b[38;5;124m\"\u001b[39m\u001b[38;5;124mvalue\u001b[39m\u001b[38;5;124m\"\u001b[39m] \u001b[38;5;241m=\u001b[39m \u001b[38;5;28mself\u001b[39m\u001b[38;5;241m.\u001b[39m_unwrap_value(response\u001b[38;5;241m.\u001b[39mget(\u001b[38;5;124m\"\u001b[39m\u001b[38;5;124mvalue\u001b[39m\u001b[38;5;124m\"\u001b[39m, \u001b[38;5;28;01mNone\u001b[39;00m))\n\u001b[1;32m    356\u001b[0m     \u001b[38;5;28;01mreturn\u001b[39;00m response\n",
      "File \u001b[0;32m~/git/get-to-know/.venv/lib64/python3.12/site-packages/selenium/webdriver/remote/errorhandler.py:229\u001b[0m, in \u001b[0;36mErrorHandler.check_response\u001b[0;34m(self, response)\u001b[0m\n\u001b[1;32m    227\u001b[0m         alert_text \u001b[38;5;241m=\u001b[39m value[\u001b[38;5;124m\"\u001b[39m\u001b[38;5;124malert\u001b[39m\u001b[38;5;124m\"\u001b[39m]\u001b[38;5;241m.\u001b[39mget(\u001b[38;5;124m\"\u001b[39m\u001b[38;5;124mtext\u001b[39m\u001b[38;5;124m\"\u001b[39m)\n\u001b[1;32m    228\u001b[0m     \u001b[38;5;28;01mraise\u001b[39;00m exception_class(message, screen, stacktrace, alert_text)  \u001b[38;5;66;03m# type: ignore[call-arg]  # mypy is not smart enough here\u001b[39;00m\n\u001b[0;32m--> 229\u001b[0m \u001b[38;5;28;01mraise\u001b[39;00m exception_class(message, screen, stacktrace)\n",
      "\u001b[0;31mWebDriverException\u001b[0m: Message: disconnected: not connected to DevTools\n  (failed to check if window was closed: disconnected: not connected to DevTools)\n  (Session info: chrome=126.0.6478.126)\nStacktrace:\n#0 0x55f2999a785e <unknown>\n#1 0x55f29967d31b <unknown>\n#2 0x55f299663419 <unknown>\n#3 0x55f2996649e0 <unknown>\n#4 0x55f29967d9a0 <unknown>\n#5 0x55f299654c2b <unknown>\n#6 0x55f2996fcac8 <unknown>\n#7 0x55f2996fc8e2 <unknown>\n#8 0x55f2996ecf08 <unknown>\n#9 0x55f2996bb9f5 <unknown>\n#10 0x55f2996bc7ae <unknown>\n#11 0x55f299973e7e <unknown>\n#12 0x55f2999772c3 <unknown>\n#13 0x55f299976cff <unknown>\n#14 0x55f299977785 <unknown>\n#15 0x55f2999640cb <unknown>\n#16 0x55f299977b4e <unknown>\n#17 0x55f29994f932 <unknown>\n#18 0x55f299996fa5 <unknown>\n#19 0x55f299997156 <unknown>\n#20 0x55f2999a6b61 <unknown>\n#21 0x7f47107e41b7 start_thread\n#22 0x7f47108663cc __clone3\n"
     ]
    }
   ],
   "source": [
    "driver.close()"
   ]
  },
  {
   "cell_type": "code",
   "execution_count": null,
   "metadata": {},
   "outputs": [],
   "source": []
  }
 ],
 "metadata": {
  "kernelspec": {
   "display_name": ".venv",
   "language": "python",
   "name": "python3"
  },
  "language_info": {
   "codemirror_mode": {
    "name": "ipython",
    "version": 3
   },
   "file_extension": ".py",
   "mimetype": "text/x-python",
   "name": "python",
   "nbconvert_exporter": "python",
   "pygments_lexer": "ipython3",
   "version": "3.12.3"
  }
 },
 "nbformat": 4,
 "nbformat_minor": 2
}
